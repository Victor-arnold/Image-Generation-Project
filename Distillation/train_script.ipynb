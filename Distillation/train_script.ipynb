{
 "cells": [
  {
   "cell_type": "code",
   "execution_count": null,
   "metadata": {},
   "outputs": [],
   "source": [
    "# pip install -r requirements.txt"
   ]
  },
  {
   "cell_type": "markdown",
   "metadata": {},
   "source": [
    "# 处理数据集图片"
   ]
  },
  {
   "cell_type": "code",
   "execution_count": 1,
   "metadata": {
    "pycharm": {
     "name": "#%% md\n"
    }
   },
   "outputs": [],
   "source": [
    "# !python ./prepare_data.py --out ./data/cifar10_horse --size 32 ./cifar10_horse"
   ]
  },
  {
   "cell_type": "markdown",
   "metadata": {},
   "source": [
    "# 训练基本的模型 1024 diffusion steps"
   ]
  },
  {
   "cell_type": "code",
   "execution_count": 2,
   "metadata": {
    "collapsed": false,
    "jupyter": {
     "outputs_hidden": false
    },
    "pycharm": {
     "is_executing": true,
     "name": "#%%\n"
    }
   },
   "outputs": [
    {
     "name": "stdout",
     "output_type": "stream",
     "text": [
      "Training new model...\n",
      "Training...\n",
      "Loss: 0.1812394499567633:  18%|██▌           | 846/4688 [02:02<09:15,  6.91it/s]Saved.\n",
      "Loss: 0.153261720936266:  36%|█████         | 1693/4688 [04:02<07:01,  7.11it/s]Saved.\n",
      "Loss: 0.14269351267892136:  54%|██████▍     | 2537/4688 [06:02<05:03,  7.09it/s]Saved.\n",
      "Loss: 0.1366807570749759:  72%|█████████▍   | 3384/4688 [08:02<03:04,  7.07it/s]Saved.\n",
      "Loss: 0.13272103098958787:  90%|██████████▊ | 4231/4688 [10:02<01:04,  7.11it/s]Saved.\n",
      "Loss: 0.1309707087207166: 100%|█████████████| 4688/4688 [11:07<00:00,  7.02it/s]\n",
      "Saved.\n",
      "Finished.\n"
     ]
    }
   ],
   "source": [
    "!python ./Main_train.py --module create_model_dataset --name exp_distillation --dname original --batch_size 128 --num_workers 16 --num_iters 600000 --num_timesteps 1024"
   ]
  },
  {
   "cell_type": "markdown",
   "metadata": {
    "pycharm": {
     "name": "#%% md\n"
    }
   },
   "source": [
    "# 模型蒸馏"
   ]
  },
  {
   "cell_type": "markdown",
   "metadata": {
    "pycharm": {
     "name": "#%% md\n"
    }
   },
   "source": [
    "## Distillate to 512 steps"
   ]
  },
  {
   "cell_type": "code",
   "execution_count": 3,
   "metadata": {
    "collapsed": false,
    "jupyter": {
     "outputs_hidden": false
    },
    "pycharm": {
     "is_executing": true,
     "name": "#%%\n"
    }
   },
   "outputs": [
    {
     "name": "stdout",
     "output_type": "stream",
     "text": [
      "Num timesteps: 1024, time scale: 1.\n",
      "Teacher parameters copied.\n",
      "Distillation...\n",
      "  0%|                                                    | 0/40 [00:00<?, ?it/s]/root/work/simple_distillation/diffusion_distiller-main/v_diffusion.py:165: UserWarning: __floordiv__ is deprecated, and its behavior will change in a future version of pytorch. It currently rounds toward 0 (like the 'trunc' function NOT 'floor'). This results in incorrect rounding for negative values. To keep the current behavior, use torch.div(a, b, rounding_mode='trunc'), or for actual floor division, use torch.div(a, b, rounding_mode='floor').\n",
      "  alpha_s, sigma_s = student_diffusion.get_alpha_sigma(x, t // 2)\n",
      "Loss: 0.00038737628783565016: 100%|█████████████| 40/40 [00:09<00:00,  4.44it/s]\n",
      "Saved.\n",
      "Finished.\n"
     ]
    }
   ],
   "source": [
    "!python ./Main_distillate.py --module create_model_dataset --diffusion GaussianDiffusionDefault --name exp_distillation --dname 512_steps --base_checkpoint ./ckpt/exp_distillation/original/checkpoint.pt --batch_size 128 --num_workers 16 --num_iters 5000 --log_interval 5"
   ]
  },
  {
   "cell_type": "markdown",
   "metadata": {},
   "source": [
    "## Distillate to 256 steps"
   ]
  },
  {
   "cell_type": "code",
   "execution_count": 4,
   "metadata": {
    "collapsed": false,
    "jupyter": {
     "outputs_hidden": false
    },
    "pycharm": {
     "is_executing": true,
     "name": "#%%\n"
    }
   },
   "outputs": [
    {
     "name": "stdout",
     "output_type": "stream",
     "text": [
      "Num timesteps: 512, time scale: 2.\n",
      "Teacher parameters copied.\n",
      "Distillation...\n",
      "  0%|                                                    | 0/40 [00:00<?, ?it/s]/root/work/simple_distillation/diffusion_distiller-main/v_diffusion.py:165: UserWarning: __floordiv__ is deprecated, and its behavior will change in a future version of pytorch. It currently rounds toward 0 (like the 'trunc' function NOT 'floor'). This results in incorrect rounding for negative values. To keep the current behavior, use torch.div(a, b, rounding_mode='trunc'), or for actual floor division, use torch.div(a, b, rounding_mode='floor').\n",
      "  alpha_s, sigma_s = student_diffusion.get_alpha_sigma(x, t // 2)\n",
      "Loss: 0.00038457875398307807: 100%|█████████████| 40/40 [00:09<00:00,  4.44it/s]\n",
      "Saved.\n",
      "Finished.\n"
     ]
    }
   ],
   "source": [
    "!python ./Main_distillate.py --module create_model_dataset --diffusion GaussianDiffusionDefault --name exp_distillation --dname 256_steps --base_checkpoint ./ckpt/exp_distillation/512_steps/checkpoint.pt --batch_size 128 --num_workers 16 --num_iters 5000 --log_interval 5"
   ]
  },
  {
   "cell_type": "markdown",
   "metadata": {},
   "source": [
    "## Distillate to 128 steps"
   ]
  },
  {
   "cell_type": "code",
   "execution_count": 5,
   "metadata": {
    "collapsed": false,
    "jupyter": {
     "outputs_hidden": false
    },
    "pycharm": {
     "is_executing": true,
     "name": "#%%\n"
    }
   },
   "outputs": [
    {
     "name": "stdout",
     "output_type": "stream",
     "text": [
      "Num timesteps: 256, time scale: 4.\n",
      "Teacher parameters copied.\n",
      "Distillation...\n",
      "  0%|                                                    | 0/40 [00:00<?, ?it/s]/root/work/simple_distillation/diffusion_distiller-main/v_diffusion.py:165: UserWarning: __floordiv__ is deprecated, and its behavior will change in a future version of pytorch. It currently rounds toward 0 (like the 'trunc' function NOT 'floor'). This results in incorrect rounding for negative values. To keep the current behavior, use torch.div(a, b, rounding_mode='trunc'), or for actual floor division, use torch.div(a, b, rounding_mode='floor').\n",
      "  alpha_s, sigma_s = student_diffusion.get_alpha_sigma(x, t // 2)\n",
      "Loss: 0.0003502142360957805: 100%|██████████████| 40/40 [00:09<00:00,  4.43it/s]\n",
      "Saved.\n",
      "Finished.\n"
     ]
    }
   ],
   "source": [
    "!python ./Main_distillate.py --module create_model_dataset --diffusion GaussianDiffusionDefault --name exp_distillation --dname 128_steps --base_checkpoint ./ckpt/exp_distillation/256_steps/checkpoint.pt --batch_size 128 --num_workers 16 --num_iters 5000 --log_interval 5"
   ]
  },
  {
   "cell_type": "markdown",
   "metadata": {},
   "source": [
    "## Distillate to 64 steps"
   ]
  },
  {
   "cell_type": "code",
   "execution_count": 6,
   "metadata": {
    "collapsed": false,
    "jupyter": {
     "outputs_hidden": false
    },
    "pycharm": {
     "is_executing": true,
     "name": "#%%\n"
    }
   },
   "outputs": [
    {
     "name": "stdout",
     "output_type": "stream",
     "text": [
      "Num timesteps: 128, time scale: 8.\n",
      "Teacher parameters copied.\n",
      "Distillation...\n",
      "  0%|                                                    | 0/40 [00:00<?, ?it/s]/root/work/simple_distillation/diffusion_distiller-main/v_diffusion.py:165: UserWarning: __floordiv__ is deprecated, and its behavior will change in a future version of pytorch. It currently rounds toward 0 (like the 'trunc' function NOT 'floor'). This results in incorrect rounding for negative values. To keep the current behavior, use torch.div(a, b, rounding_mode='trunc'), or for actual floor division, use torch.div(a, b, rounding_mode='floor').\n",
      "  alpha_s, sigma_s = student_diffusion.get_alpha_sigma(x, t // 2)\n",
      "Loss: 0.0004243761863108375: 100%|██████████████| 40/40 [00:09<00:00,  4.44it/s]\n",
      "Saved.\n",
      "Finished.\n"
     ]
    }
   ],
   "source": [
    "!python ./Main_distillate.py --module create_model_dataset --diffusion GaussianDiffusionDefault --name exp_distillation --dname 64_steps --base_checkpoint ./ckpt/exp_distillation/128_steps/checkpoint.pt --batch_size 128 --num_workers 16 --num_iters 5000 --log_interval 5"
   ]
  },
  {
   "cell_type": "markdown",
   "metadata": {},
   "source": [
    "## Distillate to 32 steps"
   ]
  },
  {
   "cell_type": "code",
   "execution_count": 7,
   "metadata": {
    "collapsed": false,
    "jupyter": {
     "outputs_hidden": false
    },
    "pycharm": {
     "is_executing": true,
     "name": "#%%\n"
    }
   },
   "outputs": [
    {
     "name": "stdout",
     "output_type": "stream",
     "text": [
      "Num timesteps: 64, time scale: 16.\n",
      "Teacher parameters copied.\n",
      "Distillation...\n",
      "  0%|                                                    | 0/40 [00:00<?, ?it/s]/root/work/simple_distillation/diffusion_distiller-main/v_diffusion.py:165: UserWarning: __floordiv__ is deprecated, and its behavior will change in a future version of pytorch. It currently rounds toward 0 (like the 'trunc' function NOT 'floor'). This results in incorrect rounding for negative values. To keep the current behavior, use torch.div(a, b, rounding_mode='trunc'), or for actual floor division, use torch.div(a, b, rounding_mode='floor').\n",
      "  alpha_s, sigma_s = student_diffusion.get_alpha_sigma(x, t // 2)\n",
      "Loss: 0.000480951824283693: 100%|███████████████| 40/40 [00:09<00:00,  4.43it/s]\n",
      "Saved.\n",
      "Finished.\n"
     ]
    }
   ],
   "source": [
    "!python ./Main_distillate.py --module create_model_dataset --diffusion GaussianDiffusionDefault --name exp_distillation --dname 32_steps --base_checkpoint ./ckpt/exp_distillation/64_steps/checkpoint.pt --batch_size 128 --num_workers 16 --num_iters 5000 --log_interval 5"
   ]
  },
  {
   "cell_type": "markdown",
   "metadata": {},
   "source": [
    "## Distillate to 16 steps"
   ]
  },
  {
   "cell_type": "code",
   "execution_count": 8,
   "metadata": {
    "collapsed": false,
    "jupyter": {
     "outputs_hidden": false
    },
    "pycharm": {
     "is_executing": true,
     "name": "#%%\n"
    }
   },
   "outputs": [
    {
     "name": "stdout",
     "output_type": "stream",
     "text": [
      "Num timesteps: 32, time scale: 32.\n",
      "Teacher parameters copied.\n",
      "Distillation...\n",
      "  0%|                                                    | 0/40 [00:00<?, ?it/s]/root/work/simple_distillation/diffusion_distiller-main/v_diffusion.py:165: UserWarning: __floordiv__ is deprecated, and its behavior will change in a future version of pytorch. It currently rounds toward 0 (like the 'trunc' function NOT 'floor'). This results in incorrect rounding for negative values. To keep the current behavior, use torch.div(a, b, rounding_mode='trunc'), or for actual floor division, use torch.div(a, b, rounding_mode='floor').\n",
      "  alpha_s, sigma_s = student_diffusion.get_alpha_sigma(x, t // 2)\n",
      "Loss: 0.0010196909777732798: 100%|██████████████| 40/40 [00:08<00:00,  4.45it/s]\n",
      "Saved.\n",
      "Finished.\n"
     ]
    }
   ],
   "source": [
    "!python ./Main_distillate.py --module create_model_dataset --diffusion GaussianDiffusionDefault --name exp_distillation --dname 16_steps --base_checkpoint ./ckpt/exp_distillation/32_steps/checkpoint.pt --batch_size 128 --num_workers 16 --num_iters 5000 --log_interval 5"
   ]
  },
  {
   "cell_type": "markdown",
   "metadata": {},
   "source": [
    "## Distillate to 8 steps"
   ]
  },
  {
   "cell_type": "code",
   "execution_count": 9,
   "metadata": {
    "collapsed": false,
    "jupyter": {
     "outputs_hidden": false
    },
    "pycharm": {
     "is_executing": true,
     "name": "#%%\n"
    }
   },
   "outputs": [
    {
     "name": "stdout",
     "output_type": "stream",
     "text": [
      "Num timesteps: 16, time scale: 64.\n",
      "Teacher parameters copied.\n",
      "Distillation...\n",
      "  0%|                                                    | 0/40 [00:00<?, ?it/s]/root/work/simple_distillation/diffusion_distiller-main/v_diffusion.py:165: UserWarning: __floordiv__ is deprecated, and its behavior will change in a future version of pytorch. It currently rounds toward 0 (like the 'trunc' function NOT 'floor'). This results in incorrect rounding for negative values. To keep the current behavior, use torch.div(a, b, rounding_mode='trunc'), or for actual floor division, use torch.div(a, b, rounding_mode='floor').\n",
      "  alpha_s, sigma_s = student_diffusion.get_alpha_sigma(x, t // 2)\n",
      "Loss: 0.002407061470148619: 100%|███████████████| 40/40 [00:09<00:00,  4.44it/s]\n",
      "Saved.\n",
      "Finished.\n"
     ]
    }
   ],
   "source": [
    "!python ./Main_distillate.py --module create_model_dataset --diffusion GaussianDiffusionDefault --name exp_distillation --dname 8_steps --base_checkpoint ./ckpt/exp_distillation/16_steps/checkpoint.pt --batch_size 128 --num_workers 16 --num_iters 5000 --log_interval 5"
   ]
  },
  {
   "cell_type": "markdown",
   "metadata": {
    "pycharm": {
     "name": "#%% md\n"
    }
   },
   "source": [
    "# 生成有扩散过程的图片"
   ]
  },
  {
   "cell_type": "code",
   "execution_count": 10,
   "metadata": {
    "collapsed": false,
    "jupyter": {
     "outputs_hidden": false
    },
    "pycharm": {
     "name": "#%%\n"
    }
   },
   "outputs": [
    {
     "name": "stdout",
     "output_type": "stream",
     "text": [
      "Model loaded.\n",
      "1024it [00:24, 42.62it/s]\n",
      "Finished.\n"
     ]
    }
   ],
   "source": [
    "# 分别以不同的蒸馏模型生成图像\n",
    "!python ./Main_sample.py --out_file ./generate_images/origin.png --module create_model_dataset --checkpoint ./ckpt/exp_distillation/original/checkpoint.pt --batch_size 8"
   ]
  },
  {
   "cell_type": "code",
   "execution_count": 11,
   "metadata": {
    "collapsed": false,
    "jupyter": {
     "outputs_hidden": false
    },
    "pycharm": {
     "name": "#%%\n"
    }
   },
   "outputs": [
    {
     "name": "stdout",
     "output_type": "stream",
     "text": [
      "Model loaded.\n",
      "512it [00:11, 42.76it/s]\n",
      "Finished.\n"
     ]
    }
   ],
   "source": [
    "!python ./Main_sample.py --out_file ./generate_images/512_steps.png --module create_model_dataset --checkpoint ./ckpt/exp_distillation/512_steps/checkpoint.pt --batch_size 8"
   ]
  },
  {
   "cell_type": "code",
   "execution_count": 12,
   "metadata": {
    "collapsed": false,
    "jupyter": {
     "outputs_hidden": false
    },
    "pycharm": {
     "name": "#%%\n"
    }
   },
   "outputs": [
    {
     "name": "stdout",
     "output_type": "stream",
     "text": [
      "Model loaded.\n",
      "256it [00:06, 42.50it/s]\n",
      "Finished.\n"
     ]
    }
   ],
   "source": [
    "!python ./Main_sample.py --out_file ./generate_images/256_steps.png --module create_model_dataset --checkpoint ./ckpt/exp_distillation/256_steps/checkpoint.pt --batch_size 8"
   ]
  },
  {
   "cell_type": "code",
   "execution_count": 13,
   "metadata": {
    "collapsed": false,
    "jupyter": {
     "outputs_hidden": false
    },
    "pycharm": {
     "is_executing": true,
     "name": "#%%\n"
    }
   },
   "outputs": [
    {
     "name": "stdout",
     "output_type": "stream",
     "text": [
      "Model loaded.\n",
      "128it [00:03, 42.37it/s]\n",
      "Finished.\n"
     ]
    }
   ],
   "source": [
    "!python ./Main_sample.py --out_file ./generate_images/128_steps.png --module create_model_dataset --checkpoint ./ckpt/exp_distillation/128_steps/checkpoint.pt --batch_size 8"
   ]
  },
  {
   "cell_type": "code",
   "execution_count": 14,
   "metadata": {},
   "outputs": [
    {
     "name": "stdout",
     "output_type": "stream",
     "text": [
      "Model loaded.\n",
      "64it [00:01, 41.99it/s]\n",
      "Finished.\n"
     ]
    }
   ],
   "source": [
    "!python ./Main_sample.py --out_file ./generate_images/64_steps.png --module create_model_dataset --checkpoint ./ckpt/exp_distillation/64_steps/checkpoint.pt --batch_size 8"
   ]
  },
  {
   "cell_type": "code",
   "execution_count": 15,
   "metadata": {},
   "outputs": [
    {
     "name": "stdout",
     "output_type": "stream",
     "text": [
      "Model loaded.\n",
      "32it [00:00, 40.73it/s]\n",
      "Finished.\n"
     ]
    }
   ],
   "source": [
    "!python ./Main_sample.py --out_file ./generate_images/32_steps.png --module create_model_dataset --checkpoint ./ckpt/exp_distillation/32_steps/checkpoint.pt --batch_size 8"
   ]
  },
  {
   "cell_type": "code",
   "execution_count": 16,
   "metadata": {},
   "outputs": [
    {
     "name": "stdout",
     "output_type": "stream",
     "text": [
      "Model loaded.\n",
      "16it [00:00, 38.61it/s]\n",
      "Finished.\n"
     ]
    }
   ],
   "source": [
    "!python ./Main_sample.py --out_file ./generate_images/16_steps.png --module create_model_dataset --checkpoint ./ckpt/exp_distillation/16_steps/checkpoint.pt --batch_size 8"
   ]
  },
  {
   "cell_type": "code",
   "execution_count": 17,
   "metadata": {},
   "outputs": [
    {
     "name": "stdout",
     "output_type": "stream",
     "text": [
      "Model loaded.\n",
      "8it [00:00, 33.53it/s]\n",
      "Finished.\n"
     ]
    }
   ],
   "source": [
    "!python ./Main_sample.py --out_file ./generate_images/8.png --module create_model_dataset --checkpoint ./ckpt/exp_distillation/8_steps/checkpoint.pt --batch_size 8"
   ]
  },
  {
   "cell_type": "markdown",
   "metadata": {},
   "source": [
    "# 生成图片并计算fid"
   ]
  },
  {
   "cell_type": "code",
   "execution_count": 18,
   "metadata": {},
   "outputs": [
    {
     "name": "stdout",
     "output_type": "stream",
     "text": [
      "Model loaded.\n",
      "1024it [00:24, 42.63it/s]\n",
      "1024it [00:23, 42.91it/s]\n",
      "1024it [00:23, 42.91it/s]\n",
      "1024it [00:23, 42.89it/s]\n",
      "1024it [00:23, 42.82it/s]\n",
      "1024it [00:23, 42.90it/s]\n",
      "1024it [00:23, 42.87it/s]\n",
      "1024it [00:23, 42.92it/s]\n",
      "1024it [00:23, 42.91it/s]\n",
      "1024it [00:23, 42.90it/s]\n",
      "1024it [00:23, 42.88it/s]\n",
      "1024it [00:23, 42.91it/s]\n",
      "1024it [00:23, 42.90it/s]\n",
      "1024it [00:23, 42.91it/s]\n",
      "1024it [00:23, 42.87it/s]\n",
      "1024it [00:23, 42.85it/s]\n",
      "1024it [00:23, 42.93it/s]\n",
      "1024it [00:23, 42.92it/s]\n",
      "1024it [00:23, 42.93it/s]\n",
      "1024it [00:23, 42.92it/s]\n",
      "1024it [00:23, 42.93it/s]\n",
      "1024it [00:23, 42.92it/s]\n",
      "1024it [00:23, 42.92it/s]\n",
      "1024it [00:23, 42.94it/s]\n",
      "1024it [00:23, 42.96it/s]\n",
      "1024it [00:23, 42.96it/s]\n",
      "1024it [00:23, 42.87it/s]\n",
      "1024it [00:23, 42.89it/s]\n",
      "1024it [00:23, 42.97it/s]\n",
      "1024it [00:23, 42.98it/s]\n",
      "1024it [00:23, 42.95it/s]\n",
      "1024it [00:23, 42.93it/s]\n",
      "1024it [00:23, 42.83it/s]\n",
      "1024it [00:23, 42.89it/s]\n",
      "1024it [00:23, 42.84it/s]\n",
      "1024it [00:23, 42.89it/s]\n",
      "1024it [00:23, 42.78it/s]\n",
      "1024it [00:23, 42.84it/s]\n",
      "1024it [00:23, 42.70it/s]\n",
      "1024it [00:23, 42.87it/s]\n",
      "1024it [00:23, 42.87it/s]\n",
      "1024it [00:23, 42.89it/s]\n",
      "1024it [00:23, 42.89it/s]\n",
      "1024it [00:23, 42.82it/s]\n",
      "1024it [00:23, 42.84it/s]\n",
      "1024it [00:23, 42.86it/s]\n",
      "1024it [00:23, 42.93it/s]\n",
      "1024it [00:23, 42.93it/s]\n",
      "1024it [00:23, 42.92it/s]\n",
      "1024it [00:23, 42.91it/s]\n",
      "total time : 1193.9830284118652\n",
      "Finished.\n"
     ]
    }
   ],
   "source": [
    "# 利用原始的模型生成50张图片 并保存计算fid\n",
    "!python ./Main_generate.py --num 50 --out_file ./generate_images/all_images_1024/ --module create_model_dataset --checkpoint ./ckpt/exp_distillation/original/checkpoint.pt "
   ]
  },
  {
   "cell_type": "code",
   "execution_count": 19,
   "metadata": {},
   "outputs": [
    {
     "name": "stdout",
     "output_type": "stream",
     "text": [
      "100%|█████████████████████████████████████████| 100/100 [00:04<00:00, 24.77it/s]\n",
      "100%|█████████████████████████████████████████████| 1/1 [00:01<00:00,  1.90s/it]\n",
      "FID:  158.18914995668578\n"
     ]
    }
   ],
   "source": [
    "!python -m pytorch_fid ./cifar10_horse/train/ ./generate_images/all_images_1024/"
   ]
  },
  {
   "cell_type": "code",
   "execution_count": 20,
   "metadata": {},
   "outputs": [
    {
     "name": "stdout",
     "output_type": "stream",
     "text": [
      "Model loaded.\n",
      "512it [00:12, 42.30it/s]\n",
      "512it [00:12, 42.56it/s]\n",
      "512it [00:12, 42.53it/s]\n",
      "512it [00:12, 42.59it/s]\n",
      "512it [00:12, 42.56it/s]\n",
      "512it [00:12, 42.58it/s]\n",
      "512it [00:12, 42.59it/s]\n",
      "512it [00:12, 42.55it/s]\n",
      "512it [00:12, 42.55it/s]\n",
      "512it [00:12, 42.59it/s]\n",
      "512it [00:11, 42.71it/s]\n",
      "512it [00:11, 42.69it/s]\n",
      "512it [00:11, 42.74it/s]\n",
      "512it [00:11, 42.72it/s]\n",
      "512it [00:11, 42.73it/s]\n",
      "512it [00:11, 42.73it/s]\n",
      "512it [00:11, 42.70it/s]\n",
      "512it [00:11, 42.71it/s]\n",
      "512it [00:11, 42.75it/s]\n",
      "512it [00:11, 42.75it/s]\n",
      "512it [00:11, 42.70it/s]\n",
      "512it [00:11, 42.75it/s]\n",
      "512it [00:11, 42.72it/s]\n",
      "512it [00:11, 42.71it/s]\n",
      "512it [00:11, 42.74it/s]\n",
      "512it [00:11, 42.70it/s]\n",
      "512it [00:11, 42.70it/s]\n",
      "512it [00:12, 42.66it/s]\n",
      "512it [00:11, 42.76it/s]\n",
      "512it [00:11, 42.76it/s]\n",
      "512it [00:11, 42.71it/s]\n",
      "512it [00:11, 42.73it/s]\n",
      "512it [00:11, 42.75it/s]\n",
      "512it [00:12, 42.58it/s]\n",
      "512it [00:12, 42.62it/s]\n",
      "512it [00:12, 42.60it/s]\n",
      "512it [00:12, 42.51it/s]\n",
      "512it [00:12, 42.60it/s]\n",
      "512it [00:12, 42.65it/s]\n",
      "512it [00:12, 42.66it/s]\n",
      "512it [00:11, 42.67it/s]\n",
      "512it [00:12, 42.63it/s]\n",
      "512it [00:12, 42.60it/s]\n",
      "512it [00:11, 42.74it/s]\n",
      "512it [00:11, 42.72it/s]\n",
      "512it [00:11, 42.67it/s]\n",
      "512it [00:12, 42.60it/s]\n",
      "512it [00:12, 42.59it/s]\n",
      "512it [00:12, 42.67it/s]\n",
      "512it [00:11, 42.71it/s]\n",
      "total time : 600.3175485134125\n",
      "Finished.\n"
     ]
    }
   ],
   "source": [
    "!python ./Main_generate.py --num 50 --out_file ./generate_images/all_images_512/ --module create_model_dataset --checkpoint ./ckpt/exp_distillation/512_steps/checkpoint.pt "
   ]
  },
  {
   "cell_type": "code",
   "execution_count": 21,
   "metadata": {},
   "outputs": [
    {
     "name": "stdout",
     "output_type": "stream",
     "text": [
      "100%|█████████████████████████████████████████| 100/100 [00:03<00:00, 26.12it/s]\n",
      "100%|█████████████████████████████████████████████| 1/1 [00:01<00:00,  1.65s/it]\n",
      "FID:  147.00082521419372\n"
     ]
    }
   ],
   "source": [
    "!python -m pytorch_fid ./cifar10_horse/train/ ./generate_images/all_images_512/"
   ]
  },
  {
   "cell_type": "code",
   "execution_count": 22,
   "metadata": {},
   "outputs": [
    {
     "name": "stdout",
     "output_type": "stream",
     "text": [
      "Model loaded.\n",
      "256it [00:05, 42.75it/s]\n",
      "256it [00:05, 43.09it/s]\n",
      "256it [00:05, 43.09it/s]\n",
      "256it [00:05, 43.15it/s]\n",
      "256it [00:05, 43.18it/s]\n",
      "256it [00:05, 43.18it/s]\n",
      "256it [00:05, 43.15it/s]\n",
      "256it [00:05, 42.85it/s]\n",
      "256it [00:05, 43.06it/s]\n",
      "256it [00:05, 43.21it/s]\n",
      "256it [00:05, 43.21it/s]\n",
      "256it [00:05, 43.18it/s]\n",
      "256it [00:05, 43.26it/s]\n",
      "256it [00:05, 43.21it/s]\n",
      "256it [00:05, 43.21it/s]\n",
      "256it [00:05, 43.17it/s]\n",
      "256it [00:05, 43.18it/s]\n",
      "256it [00:05, 43.14it/s]\n",
      "256it [00:05, 43.20it/s]\n",
      "256it [00:05, 43.24it/s]\n",
      "256it [00:05, 43.17it/s]\n",
      "256it [00:05, 43.25it/s]\n",
      "256it [00:05, 43.21it/s]\n",
      "256it [00:05, 43.22it/s]\n",
      "256it [00:05, 43.25it/s]\n",
      "256it [00:05, 43.15it/s]\n",
      "256it [00:05, 43.22it/s]\n",
      "256it [00:05, 43.24it/s]\n",
      "256it [00:05, 43.35it/s]\n",
      "256it [00:05, 43.35it/s]\n",
      "256it [00:05, 43.33it/s]\n",
      "256it [00:05, 43.36it/s]\n",
      "256it [00:05, 43.33it/s]\n",
      "256it [00:05, 43.34it/s]\n",
      "256it [00:05, 43.37it/s]\n",
      "256it [00:05, 43.36it/s]\n",
      "256it [00:05, 43.35it/s]\n",
      "256it [00:05, 43.34it/s]\n",
      "256it [00:05, 43.30it/s]\n",
      "256it [00:05, 43.35it/s]\n",
      "256it [00:05, 43.32it/s]\n",
      "256it [00:05, 43.33it/s]\n",
      "256it [00:05, 43.42it/s]\n",
      "256it [00:05, 43.35it/s]\n",
      "256it [00:05, 43.31it/s]\n",
      "256it [00:05, 43.37it/s]\n",
      "256it [00:05, 43.36it/s]\n",
      "256it [00:05, 43.35it/s]\n",
      "256it [00:05, 43.37it/s]\n",
      "256it [00:05, 43.39it/s]\n",
      "total time : 296.17891693115234\n",
      "Finished.\n"
     ]
    }
   ],
   "source": [
    "!python ./Main_generate.py --num 50 --out_file ./generate_images/all_images_256/ --module create_model_dataset --checkpoint ./ckpt/exp_distillation/256_steps/checkpoint.pt "
   ]
  },
  {
   "cell_type": "code",
   "execution_count": 23,
   "metadata": {},
   "outputs": [
    {
     "name": "stdout",
     "output_type": "stream",
     "text": [
      "100%|█████████████████████████████████████████| 100/100 [00:04<00:00, 24.96it/s]\n",
      "100%|█████████████████████████████████████████████| 1/1 [00:02<00:00,  2.03s/it]\n",
      "FID:  169.1073694079509\n"
     ]
    }
   ],
   "source": [
    "!python -m pytorch_fid ./cifar10_horse/train/ ./generate_images/all_images_256/"
   ]
  },
  {
   "cell_type": "code",
   "execution_count": 24,
   "metadata": {},
   "outputs": [
    {
     "name": "stdout",
     "output_type": "stream",
     "text": [
      "Model loaded.\n",
      "128it [00:03, 42.05it/s]\n",
      "128it [00:03, 42.44it/s]\n",
      "128it [00:03, 42.53it/s]\n",
      "128it [00:03, 42.60it/s]\n",
      "128it [00:03, 42.53it/s]\n",
      "128it [00:03, 42.51it/s]\n",
      "128it [00:03, 42.30it/s]\n",
      "128it [00:03, 42.56it/s]\n",
      "128it [00:03, 42.56it/s]\n",
      "128it [00:02, 42.68it/s]\n",
      "128it [00:03, 42.57it/s]\n",
      "128it [00:03, 42.58it/s]\n",
      "128it [00:03, 42.60it/s]\n",
      "128it [00:03, 42.64it/s]\n",
      "128it [00:02, 42.78it/s]\n",
      "128it [00:03, 42.58it/s]\n",
      "128it [00:03, 42.55it/s]\n",
      "128it [00:03, 42.49it/s]\n",
      "128it [00:03, 42.49it/s]\n",
      "128it [00:03, 42.52it/s]\n",
      "128it [00:03, 42.60it/s]\n",
      "128it [00:03, 42.60it/s]\n",
      "128it [00:03, 42.61it/s]\n",
      "128it [00:03, 42.63it/s]\n",
      "128it [00:03, 42.62it/s]\n",
      "128it [00:03, 42.54it/s]\n",
      "128it [00:03, 42.63it/s]\n",
      "128it [00:03, 42.62it/s]\n",
      "128it [00:03, 42.62it/s]\n",
      "128it [00:03, 42.64it/s]\n",
      "128it [00:03, 42.66it/s]\n",
      "128it [00:03, 42.67it/s]\n",
      "128it [00:03, 42.63it/s]\n",
      "128it [00:03, 42.63it/s]\n",
      "128it [00:02, 42.72it/s]\n",
      "128it [00:03, 42.64it/s]\n",
      "128it [00:03, 42.55it/s]\n",
      "128it [00:03, 42.60it/s]\n",
      "128it [00:03, 42.56it/s]\n",
      "128it [00:03, 42.62it/s]\n",
      "128it [00:03, 42.54it/s]\n",
      "128it [00:03, 42.62it/s]\n",
      "128it [00:03, 42.64it/s]\n",
      "128it [00:03, 42.61it/s]\n",
      "128it [00:03, 42.52it/s]\n",
      "128it [00:03, 42.65it/s]\n",
      "128it [00:03, 42.57it/s]\n",
      "128it [00:03, 42.50it/s]\n",
      "128it [00:02, 42.71it/s]\n",
      "128it [00:03, 42.56it/s]\n",
      "total time : 150.48425126075745\n",
      "Finished.\n"
     ]
    }
   ],
   "source": [
    "!python ./Main_generate.py --num 50 --out_file ./generate_images/all_images_128/ --module create_model_dataset --checkpoint ./ckpt/exp_distillation/128_steps/checkpoint.pt "
   ]
  },
  {
   "cell_type": "code",
   "execution_count": 25,
   "metadata": {},
   "outputs": [
    {
     "name": "stdout",
     "output_type": "stream",
     "text": [
      "100%|█████████████████████████████████████████| 100/100 [00:04<00:00, 24.37it/s]\n",
      "100%|█████████████████████████████████████████████| 1/1 [00:01<00:00,  1.85s/it]\n",
      "FID:  154.60740949404007\n"
     ]
    }
   ],
   "source": [
    "!python -m pytorch_fid ./cifar10_horse/train/ ./generate_images/all_images_128/"
   ]
  },
  {
   "cell_type": "code",
   "execution_count": 26,
   "metadata": {},
   "outputs": [
    {
     "name": "stdout",
     "output_type": "stream",
     "text": [
      "Model loaded.\n",
      "64it [00:01, 41.46it/s]\n",
      "64it [00:01, 42.31it/s]\n",
      "64it [00:01, 42.39it/s]\n",
      "64it [00:01, 42.49it/s]\n",
      "64it [00:01, 42.53it/s]\n",
      "64it [00:01, 42.13it/s]\n",
      "64it [00:01, 42.19it/s]\n",
      "64it [00:01, 42.66it/s]\n",
      "64it [00:01, 42.35it/s]\n",
      "64it [00:01, 42.47it/s]\n",
      "64it [00:01, 42.53it/s]\n",
      "64it [00:01, 42.56it/s]\n",
      "64it [00:01, 42.54it/s]\n",
      "64it [00:01, 42.58it/s]\n",
      "64it [00:01, 42.63it/s]\n",
      "64it [00:01, 42.51it/s]\n",
      "64it [00:01, 42.32it/s]\n",
      "64it [00:01, 42.61it/s]\n",
      "64it [00:01, 42.11it/s]\n",
      "64it [00:01, 42.45it/s]\n",
      "64it [00:01, 42.38it/s]\n",
      "64it [00:01, 42.03it/s]\n",
      "64it [00:01, 42.50it/s]\n",
      "64it [00:01, 42.43it/s]\n",
      "64it [00:01, 42.52it/s]\n",
      "64it [00:01, 42.68it/s]\n",
      "64it [00:01, 42.51it/s]\n",
      "64it [00:01, 42.70it/s]\n",
      "64it [00:01, 42.51it/s]\n",
      "64it [00:01, 42.64it/s]\n",
      "64it [00:01, 42.66it/s]\n",
      "64it [00:01, 42.59it/s]\n",
      "64it [00:01, 42.46it/s]\n",
      "64it [00:01, 42.68it/s]\n",
      "64it [00:01, 42.54it/s]\n",
      "64it [00:01, 42.48it/s]\n",
      "64it [00:01, 42.57it/s]\n",
      "64it [00:01, 42.83it/s]\n",
      "64it [00:01, 42.57it/s]\n",
      "64it [00:01, 42.39it/s]\n",
      "64it [00:01, 42.61it/s]\n",
      "64it [00:01, 42.65it/s]\n",
      "64it [00:01, 42.60it/s]\n",
      "64it [00:01, 42.54it/s]\n",
      "64it [00:01, 42.59it/s]\n",
      "64it [00:01, 42.57it/s]\n",
      "64it [00:01, 42.52it/s]\n",
      "64it [00:01, 42.30it/s]\n",
      "64it [00:01, 42.51it/s]\n",
      "64it [00:01, 42.70it/s]\n",
      "total time : 75.49844408035278\n",
      "Finished.\n"
     ]
    }
   ],
   "source": [
    "!python ./Main_generate.py --num 50 --out_file ./generate_images/all_images_64/ --module create_model_dataset --checkpoint ./ckpt/exp_distillation/64_steps/checkpoint.pt "
   ]
  },
  {
   "cell_type": "code",
   "execution_count": 27,
   "metadata": {},
   "outputs": [
    {
     "name": "stdout",
     "output_type": "stream",
     "text": [
      "100%|█████████████████████████████████████████| 100/100 [00:04<00:00, 24.78it/s]\n",
      "100%|█████████████████████████████████████████████| 1/1 [00:01<00:00,  1.86s/it]\n",
      "FID:  158.73598482207757\n"
     ]
    }
   ],
   "source": [
    "!python -m pytorch_fid ./cifar10_horse/train/ ./generate_images/all_images_64/"
   ]
  },
  {
   "cell_type": "code",
   "execution_count": 28,
   "metadata": {},
   "outputs": [
    {
     "name": "stdout",
     "output_type": "stream",
     "text": [
      "Model loaded.\n",
      "32it [00:00, 40.51it/s]\n",
      "32it [00:00, 42.72it/s]\n",
      "32it [00:00, 42.72it/s]\n",
      "32it [00:00, 42.53it/s]\n",
      "32it [00:00, 42.56it/s]\n",
      "32it [00:00, 42.57it/s]\n",
      "32it [00:00, 42.60it/s]\n",
      "32it [00:00, 42.53it/s]\n",
      "32it [00:00, 42.56it/s]\n",
      "32it [00:00, 42.49it/s]\n",
      "32it [00:00, 42.69it/s]\n",
      "32it [00:00, 42.63it/s]\n",
      "32it [00:00, 42.59it/s]\n",
      "32it [00:00, 42.62it/s]\n",
      "32it [00:00, 42.81it/s]\n",
      "32it [00:00, 42.54it/s]\n",
      "32it [00:00, 42.53it/s]\n",
      "32it [00:00, 42.71it/s]\n",
      "32it [00:00, 42.82it/s]\n",
      "32it [00:00, 42.71it/s]\n",
      "32it [00:00, 42.66it/s]\n",
      "32it [00:00, 42.79it/s]\n",
      "32it [00:00, 42.76it/s]\n",
      "32it [00:00, 42.51it/s]\n",
      "32it [00:00, 42.75it/s]\n",
      "32it [00:00, 42.77it/s]\n",
      "32it [00:00, 42.64it/s]\n",
      "32it [00:00, 42.78it/s]\n",
      "32it [00:00, 42.77it/s]\n",
      "32it [00:00, 42.72it/s]\n",
      "32it [00:00, 42.80it/s]\n",
      "32it [00:00, 42.63it/s]\n",
      "32it [00:00, 42.82it/s]\n",
      "32it [00:00, 42.77it/s]\n",
      "32it [00:00, 42.67it/s]\n",
      "32it [00:00, 42.80it/s]\n",
      "32it [00:00, 42.62it/s]\n",
      "32it [00:00, 42.83it/s]\n",
      "32it [00:00, 42.71it/s]\n",
      "32it [00:00, 42.63it/s]\n",
      "32it [00:00, 42.82it/s]\n",
      "32it [00:00, 42.84it/s]\n",
      "32it [00:00, 42.65it/s]\n",
      "32it [00:00, 42.74it/s]\n",
      "32it [00:00, 42.63it/s]\n",
      "32it [00:00, 42.80it/s]\n",
      "32it [00:00, 42.78it/s]\n",
      "32it [00:00, 42.66it/s]\n",
      "32it [00:00, 42.76it/s]\n",
      "32it [00:00, 42.84it/s]\n",
      "total time : 37.67678642272949\n",
      "Finished.\n"
     ]
    }
   ],
   "source": [
    "!python ./Main_generate.py --num 50 --out_file ./generate_images/all_images_32/ --module create_model_dataset --checkpoint ./ckpt/exp_distillation/32_steps/checkpoint.pt "
   ]
  },
  {
   "cell_type": "code",
   "execution_count": 29,
   "metadata": {},
   "outputs": [
    {
     "name": "stdout",
     "output_type": "stream",
     "text": [
      "100%|█████████████████████████████████████████| 100/100 [00:04<00:00, 24.58it/s]\n",
      "100%|█████████████████████████████████████████████| 1/1 [00:01<00:00,  1.60s/it]\n",
      "FID:  192.59379597347427\n"
     ]
    }
   ],
   "source": [
    "!python -m pytorch_fid ./cifar10_horse/train/ ./generate_images/all_images_32/"
   ]
  },
  {
   "cell_type": "code",
   "execution_count": 30,
   "metadata": {},
   "outputs": [
    {
     "name": "stdout",
     "output_type": "stream",
     "text": [
      "Model loaded.\n",
      "16it [00:00, 38.55it/s]\n",
      "16it [00:00, 42.99it/s]\n",
      "16it [00:00, 43.17it/s]\n",
      "16it [00:00, 42.51it/s]\n",
      "16it [00:00, 42.87it/s]\n",
      "16it [00:00, 42.54it/s]\n",
      "16it [00:00, 42.94it/s]\n",
      "16it [00:00, 42.56it/s]\n",
      "16it [00:00, 43.01it/s]\n",
      "16it [00:00, 42.64it/s]\n",
      "16it [00:00, 42.82it/s]\n",
      "16it [00:00, 42.57it/s]\n",
      "16it [00:00, 42.62it/s]\n",
      "16it [00:00, 42.55it/s]\n",
      "16it [00:00, 42.92it/s]\n",
      "16it [00:00, 42.53it/s]\n",
      "16it [00:00, 42.91it/s]\n",
      "16it [00:00, 42.79it/s]\n",
      "16it [00:00, 42.87it/s]\n",
      "16it [00:00, 42.89it/s]\n",
      "16it [00:00, 42.53it/s]\n",
      "16it [00:00, 42.95it/s]\n",
      "16it [00:00, 42.83it/s]\n",
      "16it [00:00, 42.93it/s]\n",
      "16it [00:00, 42.68it/s]\n",
      "16it [00:00, 42.93it/s]\n",
      "16it [00:00, 42.98it/s]\n",
      "16it [00:00, 42.92it/s]\n",
      "16it [00:00, 43.00it/s]\n",
      "16it [00:00, 42.87it/s]\n",
      "16it [00:00, 42.92it/s]\n",
      "16it [00:00, 42.93it/s]\n",
      "16it [00:00, 42.39it/s]\n",
      "16it [00:00, 42.98it/s]\n",
      "16it [00:00, 42.98it/s]\n",
      "16it [00:00, 42.50it/s]\n",
      "16it [00:00, 42.99it/s]\n",
      "16it [00:00, 42.63it/s]\n",
      "16it [00:00, 42.94it/s]\n",
      "16it [00:00, 42.97it/s]\n",
      "16it [00:00, 42.55it/s]\n",
      "16it [00:00, 42.91it/s]\n",
      "16it [00:00, 42.93it/s]\n",
      "16it [00:00, 42.65it/s]\n",
      "16it [00:00, 42.89it/s]\n",
      "16it [00:00, 42.69it/s]\n",
      "16it [00:00, 42.93it/s]\n",
      "16it [00:00, 42.81it/s]\n",
      "16it [00:00, 42.73it/s]\n",
      "16it [00:00, 42.97it/s]\n",
      "total time : 18.8862144947052\n",
      "Finished.\n"
     ]
    }
   ],
   "source": [
    "!python ./Main_generate.py --num 50 --out_file ./generate_images/all_images_16/ --module create_model_dataset --checkpoint ./ckpt/exp_distillation/16_steps/checkpoint.pt "
   ]
  },
  {
   "cell_type": "code",
   "execution_count": 31,
   "metadata": {},
   "outputs": [
    {
     "name": "stdout",
     "output_type": "stream",
     "text": [
      "100%|█████████████████████████████████████████| 100/100 [00:03<00:00, 25.87it/s]\n",
      "100%|█████████████████████████████████████████████| 1/1 [00:01<00:00,  1.43s/it]\n",
      "FID:  253.06734282266643\n"
     ]
    }
   ],
   "source": [
    "!python -m pytorch_fid ./cifar10_horse/train/ ./generate_images/all_images_16/"
   ]
  },
  {
   "cell_type": "code",
   "execution_count": 32,
   "metadata": {},
   "outputs": [
    {
     "name": "stdout",
     "output_type": "stream",
     "text": [
      "Model loaded.\n",
      "8it [00:00, 35.08it/s]\n",
      "8it [00:00, 43.08it/s]\n",
      "8it [00:00, 43.13it/s]\n",
      "8it [00:00, 42.52it/s]\n",
      "8it [00:00, 43.29it/s]\n",
      "8it [00:00, 42.85it/s]\n",
      "8it [00:00, 42.78it/s]\n",
      "8it [00:00, 42.22it/s]\n",
      "8it [00:00, 42.78it/s]\n",
      "8it [00:00, 42.77it/s]\n",
      "8it [00:00, 42.82it/s]\n",
      "8it [00:00, 41.97it/s]\n",
      "8it [00:00, 42.89it/s]\n",
      "8it [00:00, 42.83it/s]\n",
      "8it [00:00, 42.77it/s]\n",
      "8it [00:00, 42.29it/s]\n",
      "8it [00:00, 42.84it/s]\n",
      "8it [00:00, 42.78it/s]\n",
      "8it [00:00, 42.80it/s]\n",
      "8it [00:00, 42.27it/s]\n",
      "8it [00:00, 42.81it/s]\n",
      "8it [00:00, 42.84it/s]\n",
      "8it [00:00, 42.84it/s]\n",
      "8it [00:00, 42.26it/s]\n",
      "8it [00:00, 41.14it/s]\n",
      "8it [00:00, 42.66it/s]\n",
      "8it [00:00, 42.76it/s]\n",
      "8it [00:00, 42.34it/s]\n",
      "8it [00:00, 42.59it/s]\n",
      "8it [00:00, 42.85it/s]\n",
      "8it [00:00, 42.89it/s]\n",
      "8it [00:00, 42.21it/s]\n",
      "8it [00:00, 42.78it/s]\n",
      "8it [00:00, 42.70it/s]\n",
      "8it [00:00, 42.77it/s]\n",
      "8it [00:00, 43.07it/s]\n",
      "8it [00:00, 42.15it/s]\n",
      "8it [00:00, 42.97it/s]\n",
      "8it [00:00, 42.81it/s]\n",
      "8it [00:00, 42.81it/s]\n",
      "8it [00:00, 42.05it/s]\n",
      "8it [00:00, 42.88it/s]\n",
      "8it [00:00, 42.66it/s]\n",
      "8it [00:00, 42.98it/s]\n",
      "8it [00:00, 42.99it/s]\n",
      "8it [00:00, 42.68it/s]\n",
      "8it [00:00, 42.75it/s]\n",
      "8it [00:00, 42.96it/s]\n",
      "8it [00:00, 42.20it/s]\n",
      "8it [00:00, 42.86it/s]\n",
      "total time : 9.56842565536499\n",
      "Finished.\n"
     ]
    }
   ],
   "source": [
    "!python ./Main_generate.py --num 50 --out_file ./generate_images/all_images_8/ --module create_model_dataset --checkpoint ./ckpt/exp_distillation/8_steps/checkpoint.pt "
   ]
  },
  {
   "cell_type": "code",
   "execution_count": 33,
   "metadata": {},
   "outputs": [
    {
     "name": "stdout",
     "output_type": "stream",
     "text": [
      "100%|█████████████████████████████████████████| 100/100 [00:04<00:00, 24.51it/s]\n",
      "100%|█████████████████████████████████████████████| 1/1 [00:01<00:00,  1.42s/it]\n",
      "FID:  341.96560304338357\n"
     ]
    }
   ],
   "source": [
    "!python -m pytorch_fid ./cifar10_horse/train/ ./generate_images/all_images_8/"
   ]
  }
 ],
 "metadata": {
  "kernelspec": {
   "display_name": "Python 3 (ipykernel)",
   "language": "python",
   "name": "python3"
  },
  "language_info": {
   "codemirror_mode": {
    "name": "ipython",
    "version": 3
   },
   "file_extension": ".py",
   "mimetype": "text/x-python",
   "name": "python",
   "nbconvert_exporter": "python",
   "pygments_lexer": "ipython3",
   "version": "3.8.10"
  }
 },
 "nbformat": 4,
 "nbformat_minor": 4
}
